{
 "cells": [
  {
   "cell_type": "markdown",
   "metadata": {},
   "source": [
    "# MNIST Digit using keras using CNN "
   ]
  },
  {
   "cell_type": "code",
   "execution_count": 2,
   "metadata": {},
   "outputs": [
    {
     "name": "stdout",
     "output_type": "stream",
     "text": [
      "Train :   x= (60000, 28, 28) y= (60000,)\n",
      "Test :   x= (10000, 28, 28) y= (10000,)\n"
     ]
    },
    {
     "data": {
      "image/png": "[encoded data removed]",
      "text/plain": [
       "<Figure size 1440x144 with 10 Axes>"
      ]
     },
     "metadata": {},
     "output_type": "display_data"
    }
   ],
   "source": [
    "import numpy as np\n",
    "import tensorflow as tf\n",
    "from tensorflow.keras.datasets import mnist\n",
    "from matplotlib import pyplot as plt\n",
    "from tensorflow.keras.models import Sequential,Model\n",
    "from tensorflow.keras import layers\n",
    "\n",
    "(x_train,y_train),(x_test,y_test)=mnist.load_data()\n",
    "print(\"Train : \",\" x=\",x_train.shape,\"y=\",y_train.shape)\n",
    "print(\"Test : \",\" x=\",x_test.shape,\"y=\",y_test.shape)\n",
    "\n",
    "x_train=x_train.astype('float')/255\n",
    "x_test=x_test.astype('float')/255\n",
    "\n",
    "#show first 10 training data using plt\n",
    "plt.figure(figsize=(20,2))\n",
    "for i in range(10):\n",
    "    plt.subplot(1,10,i+1) # creating 10 plt\n",
    "    #plt.imshow(x_train[i],cmap='binary')\n",
    "    #remove plot label \n",
    "    plt.xticks([])\n",
    "    plt.yticks([])\n",
    "    plt.xlabel(y_train[i])\n",
    "    # set data to a single channel\n",
    "    x_train=x_train.reshape((x_train.shape[0],28,28,1))\n",
    "    x_test=x_test.reshape((x_test.shape[0],28,28,1))\n",
    "    plt.imshow(x_train[i],cmap='binary')"
   ]
  },
  {
   "cell_type": "code",
   "execution_count": 10,
   "metadata": {},
   "outputs": [
    {
     "name": "stdout",
     "output_type": "stream",
     "text": [
      "Model: \"sequential_6\"\n",
      "_________________________________________________________________\n",
      "Layer (type)                 Output Shape              Param #   \n",
      "=================================================================\n",
      "conv2d_9 (Conv2D)            (None, 26, 26, 32)        320       \n",
      "_________________________________________________________________\n",
      "max_pooling2d_6 (MaxPooling2 (None, 13, 13, 32)        0         \n",
      "_________________________________________________________________\n",
      "conv2d_10 (Conv2D)           (None, 11, 11, 64)        18496     \n",
      "_________________________________________________________________\n",
      "max_pooling2d_7 (MaxPooling2 (None, 5, 5, 64)          0         \n",
      "_________________________________________________________________\n",
      "flatten_2 (Flatten)          (None, 1600)              0         \n",
      "_________________________________________________________________\n",
      "dense_4 (Dense)              (None, 64)                102464    \n",
      "_________________________________________________________________\n",
      "dense_5 (Dense)              (None, 10)                650       \n",
      "=================================================================\n",
      "Total params: 121,930\n",
      "Trainable params: 121,930\n",
      "Non-trainable params: 0\n",
      "_________________________________________________________________\n"
     ]
    }
   ],
   "source": [
    "model= Sequential()\n",
    "model.add(layers.Conv2D(32,(3,3),activation='relu',input_shape=(28,28,1)))\n",
    "model.add(layers.MaxPooling2D((2,2)))\n",
    "model.add(layers.Conv2D(64,(3,3),activation='relu'))\n",
    "model.add(layers.MaxPooling2D((2,2)))\n",
    "#model.summary()\n",
    "\n",
    "model.add(layers.Flatten())\n",
    "model.add(layers.Dense(64,activation='relu'))\n",
    "model.add(layers.Dense(10,activation='softmax')) \n",
    "model.summary()"
   ]
  },
  {
   "cell_type": "code",
   "execution_count": null,
   "metadata": {},
   "outputs": [
    {
     "name": "stdout",
     "output_type": "stream",
     "text": [
      "Epoch 1/10\n",
      "1875/1875 [==============================] - 46s 24ms/step - loss: 0.3048 - accuracy: 0.9048 - val_loss: 0.0518 - val_accuracy: 0.9820\n",
      "Epoch 2/10\n",
      "1875/1875 [==============================] - 44s 24ms/step - loss: 0.0469 - accuracy: 0.9853 - val_loss: 0.0400 - val_accuracy: 0.9871\n",
      "Epoch 3/10\n",
      "1875/1875 [==============================] - 44s 24ms/step - loss: 0.0288 - accuracy: 0.9908 - val_loss: 0.0309 - val_accuracy: 0.9905\n",
      "Epoch 4/10\n",
      "1875/1875 [==============================] - 44s 24ms/step - loss: 0.0215 - accuracy: 0.9931 - val_loss: 0.0263 - val_accuracy: 0.9909\n",
      "Epoch 5/10\n",
      "1875/1875 [==============================] - 43s 23ms/step - loss: 0.0159 - accuracy: 0.9946 - val_loss: 0.0314 - val_accuracy: 0.9909\n",
      "Epoch 6/10\n",
      "1875/1875 [==============================] - 45s 24ms/step - loss: 0.0120 - accuracy: 0.9962 - val_loss: 0.0389 - val_accuracy: 0.9894\n",
      "Epoch 7/10\n",
      "1875/1875 [==============================] - 46s 24ms/step - loss: 0.0095 - accuracy: 0.9969 - val_loss: 0.0327 - val_accuracy: 0.9904\n",
      "Epoch 8/10\n",
      "1807/1875 [===========================>..] - ETA: 1s - loss: 0.0085 - accuracy: 0.9973"
     ]
    }
   ],
   "source": [
    "model.compile(optimizer=\"adam\",loss=tf.keras.losses.SparseCategoricalCrossentropy(from_logits=True),\n",
    "             metrics=['accuracy'])\n",
    "history=model.fit(x_train,y_train,epochs=10,validation_data=(x_test,y_test))"
   ]
  },
  {
   "cell_type": "code",
   "execution_count": null,
   "metadata": {},
   "outputs": [],
   "source": []
  }
 ],
 "metadata": {
  "kernelspec": {
   "display_name": "Python 3",
   "language": "python",
   "name": "python3"
  },
  "language_info": {
   "codemirror_mode": {
    "name": "ipython",
    "version": 3
   },
   "file_extension": ".py",
   "mimetype": "text/x-python",
   "name": "python",
   "nbconvert_exporter": "python",
   "pygments_lexer": "ipython3",
   "version": "3.8.5"
  }
 },
 "nbformat": 4,
 "nbformat_minor": 4
}
